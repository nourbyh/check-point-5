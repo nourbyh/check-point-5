{
 "cells": [
  {
   "cell_type": "code",
   "execution_count": 1,
   "id": "cac7c359",
   "metadata": {},
   "outputs": [],
   "source": [
    "#Question 1"
   ]
  },
  {
   "cell_type": "code",
   "execution_count": 2,
   "id": "028eb8fd",
   "metadata": {},
   "outputs": [
    {
     "name": "stdout",
     "output_type": "stream",
     "text": [
      "<__main__.Points3D object at 0x112d6b640>\n"
     ]
    }
   ],
   "source": [
    "class Points3D:\n",
    "    def __init__(self, x, y, z):\n",
    "        self.x = x\n",
    "        self.y = y\n",
    "        self.z = z\n",
    "        \n",
    "    def points(self):\n",
    "        print(self.x, self.y, self.z)\n",
    "points = Points3D(1,2,3)\n",
    "print(points)"
   ]
  },
  {
   "cell_type": "code",
   "execution_count": 3,
   "id": "ad2bdb46",
   "metadata": {},
   "outputs": [],
   "source": [
    "#Question 2"
   ]
  },
  {
   "cell_type": "code",
   "execution_count": 4,
   "id": "644fbfe9",
   "metadata": {},
   "outputs": [
    {
     "name": "stdout",
     "output_type": "stream",
     "text": [
      "The area is equal to 8\n",
      "The perimeter is equal to 12\n"
     ]
    }
   ],
   "source": [
    "class Rectangle:\n",
    "    def __init__(self, length, width):\n",
    "        self.length = length\n",
    "        self.width = width\n",
    "    \n",
    "    def area(self, width, length):\n",
    "        r_area = width * length\n",
    "        return(r_area)\n",
    "    \n",
    "    def perimeter(self, width, length):\n",
    "        r_perimeter = ((length + width)*2)\n",
    "        return(r_perimeter)\n",
    "\n",
    "myrect = Rectangle(2,4)\n",
    "print(\"The area is equal to\",myrect.area(2,4))\n",
    "print(\"The perimeter is equal to\",myrect.perimeter(2,4))\n"
   ]
  },
  {
   "cell_type": "code",
   "execution_count": 5,
   "id": "2e3b2043",
   "metadata": {},
   "outputs": [],
   "source": [
    "#Question 3"
   ]
  },
  {
   "cell_type": "code",
   "execution_count": 6,
   "id": "ff1572ad",
   "metadata": {},
   "outputs": [
    {
     "name": "stdout",
     "output_type": "stream",
     "text": [
      "perimeter: 25.132741228718345\n",
      "area: 50.26548245743669\n",
      "The point A is inside the circle.\n"
     ]
    }
   ],
   "source": [
    "import math\n",
    "\n",
    "class Circle: \n",
    "    def __init__(self, center_x, center_y, radius):\n",
    "        self.center_x = center_x\n",
    "        self.center_y = center_y\n",
    "        self.radius = radius\n",
    "        \n",
    "    def area(self, center_x, center_y, radius):\n",
    "        c_area = ((math.pi)* radius * radius)\n",
    "        return(c_area)\n",
    "    \n",
    "    def perimeter(self, center_x, center_y, radius):\n",
    "        c_perimeter = ((math.pi) * 2 * radius)\n",
    "        return(c_perimeter)\n",
    "    \n",
    "    def is_Inside(self, center_x, center_y, point_x, point_y):\n",
    "\n",
    "        if (abs((point_x - self.center_x)) + abs((point_y - self.center_y))) <= abs((self.radius)):\n",
    "            return (\"The point A is inside the circle.\")\n",
    "        else:\n",
    "            return (\"The point A is inside the circle.\")\n",
    "        \n",
    "mycircle = Circle(0,0,4)\n",
    "print(\"perimeter:\", mycircle.perimeter(0,0,4))\n",
    "print(\"area:\", mycircle.area(0,0,4))\n",
    "mypoint = mycircle.is_Inside(0,0,5,5)\n",
    "print(mypoint)"
   ]
  },
  {
   "cell_type": "code",
   "execution_count": 7,
   "id": "667df2b4",
   "metadata": {},
   "outputs": [],
   "source": [
    "#Question 4"
   ]
  },
  {
   "cell_type": "code",
   "execution_count": 9,
   "id": "3d829d4e",
   "metadata": {
    "scrolled": true
   },
   "outputs": [
    {
     "name": "stdout",
     "output_type": "stream",
     "text": [
      "Input your balance:2000\n",
      "How much money would you like to deposit?3\n",
      "You depositted: 3.0\n",
      "How much money would you like to withdraw?434\n",
      "You withdrew: 434.0\n"
     ]
    },
    {
     "data": {
      "text/plain": [
       "('Your new balance is:', 1569.0)"
      ]
     },
     "execution_count": 9,
     "metadata": {},
     "output_type": "execute_result"
    }
   ],
   "source": [
    "class bank_acc:\n",
    "    def __init__(self, balance):\n",
    "        self.balance = balance      \n",
    "        \n",
    "    def deposit(self):\n",
    "        depo = float(input(\"How much money would you like to deposit?\"))\n",
    "        print(\"You depositted:\",depo)\n",
    "        self.balance = self.balance + depo\n",
    "        return(self.balance)\n",
    "    \n",
    "    def withdraw(self):\n",
    "        withdraw = float(input(\"How much money would you like to withdraw?\"))\n",
    "        if withdraw > self.balance:\n",
    "            print(\"You don't have enough money to withdraw.\")\n",
    "        else:\n",
    "            print(\"You withdrew:\",withdraw)\n",
    "        self.balance = self.balance - withdraw\n",
    "        return(\"Your new balance is:\", self.balance)\n",
    "    \n",
    "balancee = float(input(\"Input your balance:\"))  \n",
    "bal = bank_acc(balancee)\n",
    "bal.deposit()\n",
    "bal.withdraw()"
   ]
  }
 ],
 "metadata": {
  "kernelspec": {
   "display_name": "Python 3 (ipykernel)",
   "language": "python",
   "name": "python3"
  },
  "language_info": {
   "codemirror_mode": {
    "name": "ipython",
    "version": 3
   },
   "file_extension": ".py",
   "mimetype": "text/x-python",
   "name": "python",
   "nbconvert_exporter": "python",
   "pygments_lexer": "ipython3",
   "version": "3.9.7"
  }
 },
 "nbformat": 4,
 "nbformat_minor": 5
}
